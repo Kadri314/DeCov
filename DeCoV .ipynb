{
 "cells": [
  {
   "cell_type": "markdown",
   "metadata": {},
   "source": [
    "# Implementing DeCov Regularizer "
   ]
  },
  {
   "cell_type": "code",
   "execution_count": null,
   "metadata": {},
   "outputs": [],
   "source": [
    "# https://machinelearningmastery.com/introduction-to-tensors-for-machine-learning/\n",
    "# https://keras.io/backend/\n",
    "from keras import backend as K\n",
    "\n",
    "class Regularizer(object):\n",
    "    \"\"\"Regularizer base class.\n",
    "    \"\"\"\n",
    "\n",
    "    def __call__(self, x):\n",
    "        return 0.\n",
    "\n",
    "    @classmethod\n",
    "    def from_config(cls, config):\n",
    "        return cls(**config)\n",
    "\n",
    "\n",
    "\n",
    "class DeCovRegularizer(Regularizer):\n",
    "batch_size= 10 \n",
    "    def __call__(self, x):\n",
    "        \n",
    "        node_numbers=x.shape[1] # in our example it will be 128\n",
    "        # x will be the output of the layer: (batch_size,n_nodes)\n",
    "        # means=[u1,u2,u3,u4,....] : where u1 is the (sum of node1 over the batch size)/batch_size\n",
    "        means=(K.sum(x,axis=0)/batch_size)  #axis=0 to sum over the column not the rows \n",
    "        sub_mean=x-means # we subtract the mean from the nodes; for Example, node1-u1, node2-u2 ...... \n",
    "        # Constructing the C matrix; however it will be 1Dim=[c1_2,c1_3....c1_n,c2_1,c2_3......,c2_d.......]\n",
    "        C=K.variable(np.array([0])) # initialize C with 0 --> C=[0]\n",
    "\n",
    "        for i in range (0,node_numbers):\n",
    "            for j in range(0,node_numbers):\n",
    "                if(i !=j): \n",
    "                    C_i_j=K.sum(sub_mean[:,i]*sub_mean[:,j],keepdims=True)/batch_size\n",
    "                    C=K.concatenate([C, C_i_j], axis=-1)\n",
    "\n",
    "        DecovLoss=K.sum(C*C)/0.5\n",
    "        return DecovLoss\n",
    "\n"
   ]
  },
  {
   "cell_type": "code",
   "execution_count": null,
   "metadata": {},
   "outputs": [],
   "source": [
    "from keras.layers import  Dense\n",
    "from keras.models import Sequential\n",
    "# here is how you add the regularizer to a layer \n",
    "\n",
    "model = Sequential()\n",
    "model.add(Dense(32, input_dim=784, activity_regularizer=DeCovRegularizer()))\n",
    "\n"
   ]
  }
 ],
 "metadata": {
  "kernelspec": {
   "display_name": "Python 3",
   "language": "python",
   "name": "python3"
  },
  "language_info": {
   "codemirror_mode": {
    "name": "ipython",
    "version": 3
   },
   "file_extension": ".py",
   "mimetype": "text/x-python",
   "name": "python",
   "nbconvert_exporter": "python",
   "pygments_lexer": "ipython3",
   "version": "3.6.4"
  }
 },
 "nbformat": 4,
 "nbformat_minor": 2
}
